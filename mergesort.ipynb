{
  "nbformat": 4,
  "nbformat_minor": 0,
  "metadata": {
    "colab": {
      "name": "Untitled7.ipynb",
      "provenance": [],
      "collapsed_sections": [],
      "authorship_tag": "ABX9TyMku3yEUqVu8hDHP9YujqJN",
      "include_colab_link": true
    },
    "kernelspec": {
      "name": "python3",
      "display_name": "Python 3"
    },
    "language_info": {
      "name": "python"
    }
  },
  "cells": [
    {
      "cell_type": "markdown",
      "metadata": {
        "id": "view-in-github",
        "colab_type": "text"
      },
      "source": [
        "<a href=\"https://colab.research.google.com/github/DiegoVongola/paa/blob/main/mergesort.ipynb\" target=\"_parent\"><img src=\"https://colab.research.google.com/assets/colab-badge.svg\" alt=\"Open In Colab\"/></a>"
      ]
    },
    {
      "cell_type": "code",
      "metadata": {
        "colab": {
          "base_uri": "https://localhost:8080/"
        },
        "id": "nCVAsHEYo3v2",
        "outputId": "38439c0a-21d6-46b1-a5df-67338d184916"
      },
      "source": [
        "# IFMG - Bambuí\n",
        "\n",
        "#Diego de Lima Pereira\n",
        "\n",
        "#Utilize um algoritmo de ordenação para realizar a seguinte tarefa: Dado um vetor A que contenha os seguintes números:\n",
        "\n",
        "#A = [9 , 10 , -1, 3, 6, 2, 1, -3, 1, 0, -2, 15, 8, -7, 0] \n",
        "\n",
        "#A ordenação deve ser feita da seguinte forma de modo que a saída do algoritmo seja:\n",
        "\n",
        "#A=[-7, -3, -2, -1, 0, 0, 1, 2, 3, 6, 8, 9, 10]\n",
        "\n",
        "#Ou seja, os números zeros ficam no meio do vetor separando os números positivos dos números negativos. Minha dica para o exercício é: Utilizem um algoritmo de divisão e conquista.\n",
        "\n",
        "\n",
        "\n",
        "def merg(vetor):\n",
        "\n",
        "    if len(vetor) == 1: \n",
        "        return vetor\n",
        "    meio = len(vetor) // 2 \n",
        "    left = merg(vetor[:meio]) \n",
        "    right = merg(vetor[meio:]) \n",
        "    return merge(left, right)\n",
        "\n",
        "\n",
        "\n",
        "def merge(left, right):\n",
        "\n",
        "    resp = [] \n",
        "    esq, dir = 0, 0 \n",
        "    while esq < len(left) and dir < len(right): \n",
        "        if left[esq] < right[dir]: \n",
        "            resp.append(left[esq])\n",
        "            esq += 1\n",
        "        else:\n",
        "            resp.append(right[dir]) \n",
        "            dir += 1    \n",
        "    resp.extend(left[esq:])\n",
        "    resp.extend(right[dir:])\n",
        "    return resp # Resultado\n",
        "\n",
        "\n",
        "\n",
        "vetor = [9 , 10 , -1, 3, 6, 2, 1, -3, 1, 0, -2, 15, 8, -7, 0]\n",
        "\n",
        "\n",
        "\n",
        "print(f\"Vetor ={vetor}\")  #  o print(f'uma string {variavel}') irá juntar o valor da variável após o texto uma string.\n",
        "\n",
        "\n",
        "print(f\"Resultado ordenação: {merg(vetor)}\")"
      ],
      "execution_count": 25,
      "outputs": [
        {
          "output_type": "stream",
          "text": [
            "Vetor =[9, 10, -1, 3, 6, 2, 1, -3, 1, 0, -2, 15, 8, -7, 0]\n",
            "Resultado ordenação: [-7, -3, -2, -1, 0, 0, 1, 1, 2, 3, 6, 8, 9, 10, 15]\n"
          ],
          "name": "stdout"
        }
      ]
    },
    {
      "cell_type": "code",
      "metadata": {
        "id": "XeWdd0AtryUi"
      },
      "source": [
        ""
      ],
      "execution_count": null,
      "outputs": []
    }
  ]
}